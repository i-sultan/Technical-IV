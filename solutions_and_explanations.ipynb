{
 "cells": [
  {
   "cell_type": "markdown",
   "metadata": {},
   "source": [
    "# Question 1"
   ]
  },
  {
   "cell_type": "markdown",
   "metadata": {},
   "source": [
    "Given two strings s and t, determine whether some anagram of t is a substring of s. For example: if s = \"udacity\" and t = \"ad\", then the function returns True. Your function definition should look like: question1(s, t) and return a boolean True or False."
   ]
  },
  {
   "cell_type": "markdown",
   "metadata": {},
   "source": [
    "## Q1 Solution"
   ]
  },
  {
   "cell_type": "code",
   "execution_count": 21,
   "metadata": {
    "collapsed": true
   },
   "outputs": [],
   "source": [
    "def compare_anagram (s, t, s_id):\n",
    "    s_sub = s[s_id:s_id+len(t)]\n",
    "    t_sub = t\n",
    "    for s_char in s_sub:\n",
    "        t_id = t_sub.find(s_char)\n",
    "        if t_id>=0: # character found\n",
    "            t_sub = t_sub[:t_id] + t_sub[t_id+1:]\n",
    "        else:\n",
    "            return False\n",
    "    return True        \n",
    "    \n",
    "def question1(s, t):\n",
    "    if s==None:\n",
    "        return False\n",
    "    elif t==None:\n",
    "        return True\n",
    "    for s_id in range(len(s)):\n",
    "        if s[s_id] in t:\n",
    "            if compare_anagram(s ,t, s_id):\n",
    "                return True\n",
    "    return False"
   ]
  },
  {
   "cell_type": "markdown",
   "metadata": {},
   "source": [
    "## Q1 Solution Explanation"
   ]
  },
  {
   "cell_type": "markdown",
   "metadata": {},
   "source": [
    "**Efficiency**: Assuming $n_s$, $n_t$ are the number of characters in s, t respectively, the proposed solution goes over s in $n_s$ steps and compares with t in maximum of $n_t$ steps, giving the solution in O($n_s$ $n_t$).\n",
    "\n",
    "This is more efficient than a solution that creates $n_t!$ anagrams of t and checks if any is a string of $n_s$, giving the solution in O($n_s$ $n_t!$)\n",
    "\n",
    "**Data Structures**: t_sub is a list that maintains unmatched characters in t string."
   ]
  },
  {
   "cell_type": "markdown",
   "metadata": {},
   "source": [
    "## Q1 Solution Tests"
   ]
  },
  {
   "cell_type": "code",
   "execution_count": 22,
   "metadata": {
    "collapsed": false
   },
   "outputs": [
    {
     "data": {
      "text/plain": [
       "False"
      ]
     },
     "execution_count": 22,
     "metadata": {},
     "output_type": "execute_result"
    }
   ],
   "source": [
    "question1(None, \"ab\")\n",
    "# False"
   ]
  },
  {
   "cell_type": "code",
   "execution_count": 23,
   "metadata": {
    "collapsed": false
   },
   "outputs": [
    {
     "data": {
      "text/plain": [
       "True"
      ]
     },
     "execution_count": 23,
     "metadata": {},
     "output_type": "execute_result"
    }
   ],
   "source": [
    "question1(\"ab\", None)\n",
    "# True"
   ]
  },
  {
   "cell_type": "code",
   "execution_count": 24,
   "metadata": {
    "collapsed": false
   },
   "outputs": [
    {
     "data": {
      "text/plain": [
       "True"
      ]
     },
     "execution_count": 24,
     "metadata": {},
     "output_type": "execute_result"
    }
   ],
   "source": [
    "question1(\"udacity\", \"ad\")\n",
    "# True"
   ]
  },
  {
   "cell_type": "code",
   "execution_count": 25,
   "metadata": {
    "collapsed": false
   },
   "outputs": [
    {
     "data": {
      "text/plain": [
       "False"
      ]
     },
     "execution_count": 25,
     "metadata": {},
     "output_type": "execute_result"
    }
   ],
   "source": [
    "question1(\"udacity\", \"cd\")\n",
    "# False"
   ]
  },
  {
   "cell_type": "code",
   "execution_count": 26,
   "metadata": {
    "collapsed": false
   },
   "outputs": [
    {
     "data": {
      "text/plain": [
       "True"
      ]
     },
     "execution_count": 26,
     "metadata": {},
     "output_type": "execute_result"
    }
   ],
   "source": [
    "question1(\"interaction\", \"cat\")\n",
    "# True"
   ]
  },
  {
   "cell_type": "code",
   "execution_count": 27,
   "metadata": {
    "collapsed": false
   },
   "outputs": [
    {
     "data": {
      "text/plain": [
       "False"
      ]
     },
     "execution_count": 27,
     "metadata": {},
     "output_type": "execute_result"
    }
   ],
   "source": [
    "question1(\"interaction\", \"rat\")\n",
    "# False"
   ]
  },
  {
   "cell_type": "markdown",
   "metadata": {},
   "source": [
    "# Question 2"
   ]
  },
  {
   "cell_type": "markdown",
   "metadata": {},
   "source": [
    "Given a string a, find the longest palindromic substring contained in a. Your function definition should look like question2(a), and return a string."
   ]
  },
  {
   "cell_type": "markdown",
   "metadata": {},
   "source": [
    "## Q2 Solution"
   ]
  },
  {
   "cell_type": "code",
   "execution_count": 28,
   "metadata": {
    "collapsed": false
   },
   "outputs": [],
   "source": [
    "def test_palindromic(a_sub):\n",
    "    for index in range(int(len(a_sub)/2)):\n",
    "        if a_sub[index] != a_sub[-1-index]:\n",
    "            return 0\n",
    "    return len(a_sub)\n",
    "\n",
    "def question2(a):\n",
    "    if a == None:\n",
    "        return None\n",
    "    #initialization\n",
    "    pal_length = 1\n",
    "    pal = a[0]\n",
    "    \n",
    "    for index in range(len(a)):\n",
    "        start_index = index\n",
    "        # find next occurance of the same letter\n",
    "        delta_index = a[start_index+1:].find(a[index])+1\n",
    "        while(delta_index > 0):\n",
    "            pal_test = a[index:start_index+1+delta_index]\n",
    "            length = test_palindromic(pal_test)\n",
    "            if length > pal_length:\n",
    "                pal_length = length\n",
    "                pal = pal_test\n",
    "            start_index = start_index + delta_index\n",
    "            delta_index = a[start_index+1:].find(a[index])+1\n",
    "    return pal"
   ]
  },
  {
   "cell_type": "markdown",
   "metadata": {},
   "source": [
    "## Q2 Solution Explanation"
   ]
  },
  {
   "cell_type": "markdown",
   "metadata": {},
   "source": [
    "**Efficiency**: We go over the characters in string (a) one by one, find if a similar character exists in the string, and then check if the substring between the two characters is a palindromic.\n",
    "\n",
    "Each palindromic check is O(n), where n is the number of characters in a, and the number of palindromic checks depends on the number of chararacter repetitions in a.\n",
    "\n",
    "From above, efficiency ranges between O(n) and O($n^2$) depending on the number of repeted characters.\n"
   ]
  },
  {
   "cell_type": "markdown",
   "metadata": {},
   "source": [
    "## Q2 Solution Tests"
   ]
  },
  {
   "cell_type": "code",
   "execution_count": 29,
   "metadata": {
    "collapsed": false
   },
   "outputs": [],
   "source": [
    "question2(None)\n",
    "#None"
   ]
  },
  {
   "cell_type": "code",
   "execution_count": 30,
   "metadata": {
    "collapsed": false
   },
   "outputs": [
    {
     "data": {
      "text/plain": [
       "'a'"
      ]
     },
     "execution_count": 30,
     "metadata": {},
     "output_type": "execute_result"
    }
   ],
   "source": [
    "# single character palindromic\n",
    "question2(\"abc\")\n",
    "#'a'"
   ]
  },
  {
   "cell_type": "code",
   "execution_count": 31,
   "metadata": {
    "collapsed": false
   },
   "outputs": [
    {
     "name": "stdout",
     "output_type": "stream",
     "text": [
      "abcba\n"
     ]
    }
   ],
   "source": [
    "# multiple character palindromic\n",
    "print (question2(\"gabcbadd\"))\n",
    "#\"abcba\""
   ]
  },
  {
   "cell_type": "code",
   "execution_count": 32,
   "metadata": {
    "collapsed": false
   },
   "outputs": [
    {
     "name": "stdout",
     "output_type": "stream",
     "text": [
      "abcbadabcba\n"
     ]
    }
   ],
   "source": [
    "# multiple palindromics, returns the longest one\n",
    "print (question2(\"abcbadabcbad\"))\n",
    "#\"abcbadabcba\""
   ]
  },
  {
   "cell_type": "markdown",
   "metadata": {},
   "source": [
    "# Question 3"
   ]
  },
  {
   "cell_type": "markdown",
   "metadata": {},
   "source": [
    "Given an undirected graph G, find the minimum spanning tree within G. A minimum spanning tree connects all vertices in a graph with the smallest possible total weight of edges. Your function should take in and return an adjacency list structured like this:\n",
    "\n",
    "{'A': [('B', 2)],\n",
    " 'B': [('A', 2), ('C', 5)], \n",
    " 'C': [('B', 5)]}"
   ]
  },
  {
   "cell_type": "markdown",
   "metadata": {},
   "source": [
    "Vertices are represented as unique strings. The function definition should be question3(G)"
   ]
  },
  {
   "cell_type": "markdown",
   "metadata": {},
   "source": [
    "## Q3 Solution"
   ]
  },
  {
   "cell_type": "code",
   "execution_count": 33,
   "metadata": {
    "collapsed": true
   },
   "outputs": [],
   "source": [
    "def find_closest_node(visited_nodes):\n",
    "    min_distance = float(\"inf\")\n",
    "    for (key, edges) in visited_nodes.items():\n",
    "        for (node, distance) in edges:\n",
    "            if distance < min_distance:\n",
    "                n1 = key\n",
    "                n2 = node\n",
    "                min_distance = distance\n",
    "    return (n1, n2, min_distance)\n",
    "\n",
    "def update_visited(visited_nodes, new_node_name, new_node_edges):\n",
    "    for (key, edges) in visited_nodes.items():\n",
    "        for edge_id in range(len(edges)):\n",
    "            (node, distance) = edges[edge_id]\n",
    "            if node == new_node_name:\n",
    "                # set distance from visited to new node to infinity\n",
    "                visited_nodes[key][edge_id] = (visited_nodes[key][edge_id][0], float(\"inf\"))\n",
    "    for edge_id in range(len(new_node_edges)):\n",
    "         (node, distance) = new_node_edges[edge_id]\n",
    "         if node in visited_nodes.keys():\n",
    "             # set distance from new to visited node to infinity\n",
    "            new_node_edges[edge_id] = (new_node_edges[edge_id][0], float(\"inf\"))\n",
    "    # add new_node to visited_nodes\n",
    "    visited_nodes[new_node_name] = new_node_edges\n",
    "    return visited_nodes            \n",
    "\n",
    "def question3(G):\n",
    "    if G == None:\n",
    "        return None\n",
    "\n",
    "    mst = {key:[] for key in G}\n",
    "    # initialize visited nodes with first node in graph\n",
    "    visited_nodes = {G.keys()[0]:G.values()[0]}\n",
    "\n",
    "    while len(visited_nodes) < len(G):\n",
    "        n1, n2, distance = find_closest_node(visited_nodes)\n",
    "        mst[n1].append((n2,distance))\n",
    "        mst[n2].append((n1,distance))\n",
    "        visited_nodes = update_visited(visited_nodes, n2, G[n2])\n",
    "    return mst"
   ]
  },
  {
   "cell_type": "markdown",
   "metadata": {},
   "source": [
    "## Q3 Solution Explanation"
   ]
  },
  {
   "cell_type": "markdown",
   "metadata": {},
   "source": [
    "Here the algorithm starts by adding the first vertex in the graph to the visited_nodes data structure, next it iterates over the following steps:\n",
    "1. Find the closest node to vertexes in visited_nodes.\n",
    "2. Add the new node to the visited nodes, setting its distance to all visited nodes to inf so that it does not get picked again.\n",
    "\n",
    "This is known as Prims algorithm, and the first step can be optimized further by using a data structure with faster search.\n",
    "\n",
    "**Efficiency** in this basic implementation, each node is compared to all other nodes before being added to the visited_nodes data structure, hence effeciency is $O(n^2)$ where n is the number of nodes in the graph"
   ]
  },
  {
   "cell_type": "markdown",
   "metadata": {},
   "source": [
    "## Q3 Solution Tests"
   ]
  },
  {
   "cell_type": "code",
   "execution_count": 38,
   "metadata": {
    "collapsed": false
   },
   "outputs": [
    {
     "name": "stdout",
     "output_type": "stream",
     "text": [
      "None\n"
     ]
    }
   ],
   "source": [
    "print (question3(None))\n",
    "# None"
   ]
  },
  {
   "cell_type": "code",
   "execution_count": 40,
   "metadata": {
    "collapsed": false
   },
   "outputs": [
    {
     "name": "stdout",
     "output_type": "stream",
     "text": [
      "{'A': [('B', 2)], 'C': [('B', 5)], 'B': [('A', 2), ('C', 5)]}\n"
     ]
    }
   ],
   "source": [
    "# graph connections are mst from the beginning\n",
    "graph = {'A': [('B', 2)], 'C': [('B', 5)], 'B': [('A', 2), ('C', 5)]}\n",
    "print (question3(graph))\n",
    "# mst = {'A': [('B', 2)], 'C': [('B', 5)], 'B': [('A', 2), ('C', 5)]}"
   ]
  },
  {
   "cell_type": "code",
   "execution_count": 45,
   "metadata": {
    "collapsed": false
   },
   "outputs": [
    {
     "name": "stdout",
     "output_type": "stream",
     "text": [
      "{'A': [('B', 1), ('D', 4)], 'C': [('E', 4), ('F', 5)], 'B': [('A', 1), ('E', 2)], 'E': [('B', 2), ('C', 4)], 'D': [('A', 4)], 'F': [('C', 5)]}\n"
     ]
    }
   ],
   "source": [
    "# example from: https://en.wikipedia.org/wiki/Minimum_spanning_tree\n",
    "graph = {'A': [('B',1),('D',4),('E',3)], 'B': [('A',1),('D',4),('E',2)], 'C': [('E',4),('F',5)],\n",
    "         'D': [('A',4),('B',4),('E',4)], 'E': [('A',3),('B',2),('C',4),('D',4),('F',7)], 'F': [('C',5),('E',7)]}\n",
    "print (question3(graph))\n",
    "# mst = {'A': [('B', 1), ('D', 4)], 'C': [('E', 4), ('F', 5)], 'B': [('A', 1), ('E', 2)], \n",
    "# 'E': [('B', 2), ('C', 4)], 'D': [('A', 4)], 'F': [('C', 5)]}"
   ]
  },
  {
   "cell_type": "code",
   "execution_count": 46,
   "metadata": {
    "collapsed": false
   },
   "outputs": [
    {
     "name": "stdout",
     "output_type": "stream",
     "text": [
      "{'A': [('B', 1)], 'C': [('F', 2)], 'B': [('A', 1), ('E', 1)], 'E': [('B', 1), ('D', 1), ('F', 4)], 'D': [('E', 1)], 'F': [('E', 4), ('C', 2)]}\n"
     ]
    }
   ],
   "source": [
    "# example from: https://en.wikipedia.org/wiki/Minimum_spanning_tree\n",
    "graph = {'A': [('B',1),('D',3)], 'B': [('A',1),('D',5),('E',1),('C',6)], 'C': [('B',6),('E',5),('F',2)],\n",
    "         'D': [('A',3),('B',5),('E',1)], 'E': [('B',1),('C',5),('D',1),('F',4)], 'F': [('C',2),('E',4)]}\n",
    "print (question3(graph))\n",
    "# mst = {'A': [('B', 1)], 'C': [('F', 2)], 'B': [('A', 1), ('E', 1)], \n",
    "# 'E': [('B', 1), ('D', 1), ('F', 4)], 'D': [('E', 1)], 'F': [('E', 4), ('C', 2)]}"
   ]
  },
  {
   "cell_type": "markdown",
   "metadata": {},
   "source": [
    "# Question 4"
   ]
  },
  {
   "cell_type": "markdown",
   "metadata": {},
   "source": [
    "Find the least common ancestor between two nodes on a binary search tree. \n",
    "\n",
    "The least common ancestor is the farthest node from the root that is an ancestor of both nodes. For example, the root is a common ancestor of all nodes on the tree, but if both nodes are descendents of the root's left child, then that left child might be the lowest common ancestor. \n",
    "\n",
    "You can assume that both nodes are in the tree, and the tree itself adheres to all BST properties. \n",
    "\n",
    "The function definition should look like question4(T, r, n1, n2), where T is the tree represented as a matrix, where the index of the list is equal to the integer stored in that node and a 1 represents a child node, r is a non-negative integer representing the root, and n1 and n2 are non-negative integers representing the two nodes in no particular order. \n",
    " \n",
    "For example, one test case might be: "
   ]
  },
  {
   "cell_type": "raw",
   "metadata": {},
   "source": [
    "question4([[0, 1, 0, 0, 0],\n",
    "           [0, 0, 0, 0, 0],\n",
    "           [0, 0, 0, 0, 0],\n",
    "           [1, 0, 0, 0, 1],\n",
    "           [0, 0, 0, 0, 0]],\n",
    "          3,\n",
    "          1,\n",
    "          4)"
   ]
  },
  {
   "cell_type": "markdown",
   "metadata": {},
   "source": [
    "## Q4 Solution"
   ]
  },
  {
   "cell_type": "code",
   "execution_count": 58,
   "metadata": {
    "collapsed": false
   },
   "outputs": [],
   "source": [
    "def question4(T, r, n1, n2):\n",
    "    lineage = [n1]\n",
    "    # find nodes between n1 and r\n",
    "    parent = n1\n",
    "    while parent != r:\n",
    "        parent_list = [T[row][parent] for row in range(len(T))]\n",
    "        parent = parent_list.index(1)\n",
    "        lineage.append(parent)\n",
    "    # find nodes between n2 and r, stop when common ancestor with n2 found\n",
    "    parent = n2\n",
    "    while parent != r:\n",
    "        parent_list = [T[row][parent] for row in range(len(T))]\n",
    "        parent = parent_list.index(1)\n",
    "        if parent in lineage:\n",
    "            return parent\n",
    "    return r"
   ]
  },
  {
   "cell_type": "markdown",
   "metadata": {},
   "source": [
    "## Q4 Solution Explanation"
   ]
  },
  {
   "cell_type": "markdown",
   "metadata": {},
   "source": [
    "First we find lineage of first node (n1) back to root node (r), then we find the lineage from node (n2) to (r) and stop at the first common ancestor with n1 lineage, which will be the least common ancestor of n1 and n2.\n",
    "\n",
    "**Efficiency**: As the tree is BST, first lineage will be found in $O(log_2(n))$ steps, where n is the number of nodes in the tree, this will be the same order of finding lineage of n2, making the efficiency of the overall solution of the order $O(log_2(n))$"
   ]
  },
  {
   "cell_type": "markdown",
   "metadata": {},
   "source": [
    "## Q4 Solution Tests"
   ]
  },
  {
   "cell_type": "code",
   "execution_count": 59,
   "metadata": {
    "collapsed": false
   },
   "outputs": [
    {
     "name": "stdout",
     "output_type": "stream",
     "text": [
      "3\n"
     ]
    }
   ],
   "source": [
    "print question4([[0, 1, 0, 0, 0],\n",
    "                 [0, 0, 0, 0, 0],\n",
    "                 [0, 0, 0, 0, 0],\n",
    "                 [1, 0, 0, 0, 1],\n",
    "                 [0, 0, 0, 0, 0]],\n",
    "                 3,\n",
    "                 1,\n",
    "                 4)\n",
    "# 3"
   ]
  },
  {
   "cell_type": "code",
   "execution_count": 60,
   "metadata": {
    "collapsed": false
   },
   "outputs": [
    {
     "name": "stdout",
     "output_type": "stream",
     "text": [
      "1\n"
     ]
    }
   ],
   "source": [
    "print question4([[0, 1, 1, 0, 0, 0, 0],\n",
    "                 [0, 0, 0, 1, 1, 0, 0],\n",
    "                 [0, 0, 0, 0, 0, 1, 1],\n",
    "                 [0, 0, 0, 0, 0, 0, 0],\n",
    "                 [0, 0, 0, 0, 0, 0, 0],\n",
    "                 [0, 0, 0, 0, 0, 0, 0],\n",
    "                 [0, 0, 0, 0, 0, 0, 0]],\n",
    "                 0,\n",
    "                 1,\n",
    "                 4)\n",
    "# 1"
   ]
  },
  {
   "cell_type": "code",
   "execution_count": 61,
   "metadata": {
    "collapsed": false
   },
   "outputs": [
    {
     "name": "stdout",
     "output_type": "stream",
     "text": [
      "1\n"
     ]
    }
   ],
   "source": [
    "print question4([[0, 1, 1, 0, 0, 0, 0],\n",
    "                 [0, 0, 0, 1, 1, 0, 0],\n",
    "                 [0, 0, 0, 0, 0, 1, 1],\n",
    "                 [0, 0, 0, 0, 0, 0, 0],\n",
    "                 [0, 0, 0, 0, 0, 0, 0],\n",
    "                 [0, 0, 0, 0, 0, 0, 0],\n",
    "                 [0, 0, 0, 0, 0, 0, 0]],\n",
    "                 0,\n",
    "                 3,\n",
    "                 4)\n",
    "# 1"
   ]
  },
  {
   "cell_type": "code",
   "execution_count": 62,
   "metadata": {
    "collapsed": false
   },
   "outputs": [
    {
     "name": "stdout",
     "output_type": "stream",
     "text": [
      "0\n"
     ]
    }
   ],
   "source": [
    "print question4([[0, 1, 1, 0, 0, 0, 0],\n",
    "                 [0, 0, 0, 1, 1, 0, 0],\n",
    "                 [0, 0, 0, 0, 0, 1, 1],\n",
    "                 [0, 0, 0, 0, 0, 0, 0],\n",
    "                 [0, 0, 0, 0, 0, 0, 0],\n",
    "                 [0, 0, 0, 0, 0, 0, 0],\n",
    "                 [0, 0, 0, 0, 0, 0, 0]],\n",
    "                 0,\n",
    "                 3,\n",
    "                 5)\n",
    "# 0"
   ]
  },
  {
   "cell_type": "code",
   "execution_count": 64,
   "metadata": {
    "collapsed": false
   },
   "outputs": [
    {
     "name": "stdout",
     "output_type": "stream",
     "text": [
      "0\n"
     ]
    }
   ],
   "source": [
    "print question4([[0, 1, 1, 0, 0, 0, 0],\n",
    "                 [0, 0, 0, 1, 1, 0, 0],\n",
    "                 [0, 0, 0, 0, 0, 1, 1],\n",
    "                 [0, 0, 0, 0, 0, 0, 0],\n",
    "                 [0, 0, 0, 0, 0, 0, 0],\n",
    "                 [0, 0, 0, 0, 0, 0, 0],\n",
    "                 [0, 0, 0, 0, 0, 0, 0]],\n",
    "                 0,\n",
    "                 0,\n",
    "                 4)\n",
    "# 0"
   ]
  },
  {
   "cell_type": "markdown",
   "metadata": {},
   "source": [
    "# Question 5"
   ]
  },
  {
   "cell_type": "markdown",
   "metadata": {},
   "source": [
    "Find the element in a singly linked list that's m elements from the end. For example, if a linked list has 5 elements, the 3rd element from the end is the 3rd element. \n",
    "\n",
    "The function definition should look like question5(ll, m), where ll is the first node of a linked list and m is the \"mth number from the end\". \n",
    "\n",
    "You should copy/paste the Node class below to use as a representation of a node in the linked list. Return the value of the node at that position."
   ]
  },
  {
   "cell_type": "raw",
   "metadata": {},
   "source": [
    "# class Node(object):\n",
    "def __init__(self, data):\n",
    "    self.data = data\n",
    "    self.next = None"
   ]
  },
  {
   "cell_type": "markdown",
   "metadata": {},
   "source": [
    "## Q5 Solution"
   ]
  },
  {
   "cell_type": "code",
   "execution_count": 65,
   "metadata": {
    "collapsed": true
   },
   "outputs": [],
   "source": [
    "class Node(object):\n",
    "    def __init__(self, data):\n",
    "        self.data = data\n",
    "        self.next = None\n",
    "\n",
    "class LinkedList(object):\n",
    "    def __init__(self, head=None):\n",
    "        self.head = head\n",
    "\n",
    "    def append(self, new_node):\n",
    "        node = self.head\n",
    "        if self.head:\n",
    "            while node.next:\n",
    "                node = node.next\n",
    "            node.next = new_node\n",
    "        else:\n",
    "            self.head = new_node\n",
    "\n",
    "class FixedLengthQueue(object):\n",
    "    def __init__(self, instance, maxlen):\n",
    "        self.queue = [instance]\n",
    "        self.head = 0\n",
    "        self.maxlen = maxlen\n",
    "    def append(self, instance):\n",
    "        if len(self.queue) < self.maxlen:\n",
    "            self.head += 1\n",
    "            self.queue.append(instance)\n",
    "        else:\n",
    "            self.head = (self.head+1) % self.maxlen\n",
    "            self.queue[self.head] = instance\n",
    "    def pop(self):\n",
    "        if len(self.queue) < self.maxlen:\n",
    "            return self.queue[0]\n",
    "        else:\n",
    "            self.head = (self.head+1) % self.maxlen\n",
    "            return self.queue[self.head]\n",
    "    def len(self):\n",
    "        return len(self.queue)\n",
    "\n",
    "def question5(ll, m):\n",
    "    if ll == None:\n",
    "        return None\n",
    "    q = FixedLengthQueue(ll,m+1)\n",
    "    node = ll\n",
    "    while node.next:\n",
    "        node = node.next\n",
    "        q.append(node)\n",
    "    return q.pop()"
   ]
  },
  {
   "cell_type": "markdown",
   "metadata": {},
   "source": [
    "## Q5 Solution Explanation"
   ]
  },
  {
   "cell_type": "markdown",
   "metadata": {},
   "source": [
    "Code goes over the linked list until the last node in the list, maintaining a fixed length queue that holds that last m items in the linked list. Once we hit the last item, we pop the oldest item in the queue.\n",
    "\n",
    "**EFficiency**: In this case we have to go over all elements in the linked list, so effeciency is of the order O(n) where n is the number of elements in the linked list.\n",
    "\n",
    "Alternatively, we could maintain the total number of elements in the linked list and calculate the number of hops needed to arrive at the desired element, but this method requires changes to the linked list code, which the question apparently did not request."
   ]
  },
  {
   "cell_type": "markdown",
   "metadata": {},
   "source": [
    "## Q5 Solution Tests"
   ]
  },
  {
   "cell_type": "code",
   "execution_count": 66,
   "metadata": {
    "collapsed": false
   },
   "outputs": [
    {
     "name": "stdout",
     "output_type": "stream",
     "text": [
      "9\n"
     ]
    }
   ],
   "source": [
    "# building singly linked list\n",
    "linkedList = LinkedList()\n",
    "for i in range(10):\n",
    "    linkedList.append(Node(i))\n",
    "\n",
    "# print the last element in the list\n",
    "print question5(linkedList.head, 0).data\n",
    "# 9"
   ]
  },
  {
   "cell_type": "code",
   "execution_count": 67,
   "metadata": {
    "collapsed": false
   },
   "outputs": [
    {
     "name": "stdout",
     "output_type": "stream",
     "text": [
      "7\n"
     ]
    }
   ],
   "source": [
    "print question5(linkedList.head, 2).data\n",
    "# 7"
   ]
  },
  {
   "cell_type": "code",
   "execution_count": 71,
   "metadata": {
    "collapsed": false
   },
   "outputs": [
    {
     "name": "stdout",
     "output_type": "stream",
     "text": [
      "4\n"
     ]
    }
   ],
   "source": [
    "print question5(linkedList.head, 5).data\n",
    "# 4"
   ]
  },
  {
   "cell_type": "code",
   "execution_count": 72,
   "metadata": {
    "collapsed": false
   },
   "outputs": [
    {
     "name": "stdout",
     "output_type": "stream",
     "text": [
      "0\n"
     ]
    }
   ],
   "source": [
    "print question5(linkedList.head, 9).data\n",
    "# 0"
   ]
  }
 ],
 "metadata": {
  "kernelspec": {
   "display_name": "Python 2",
   "language": "python",
   "name": "python2"
  },
  "language_info": {
   "codemirror_mode": {
    "name": "ipython",
    "version": 2
   },
   "file_extension": ".py",
   "mimetype": "text/x-python",
   "name": "python",
   "nbconvert_exporter": "python",
   "pygments_lexer": "ipython2",
   "version": "2.7.12"
  }
 },
 "nbformat": 4,
 "nbformat_minor": 0
}
